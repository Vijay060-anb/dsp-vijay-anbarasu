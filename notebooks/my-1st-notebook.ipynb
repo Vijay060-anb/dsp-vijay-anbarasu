{
 "cells": [
  {
   "cell_type": "code",
   "execution_count": null,
   "id": "6c31d94d-1fed-402e-8ef6-44e09d3862ab",
   "metadata": {},
   "outputs": [],
   "source": [
    "import numpy as np\n",
    "from IPython.display import display\n",
    "\n",
    "my_array = np.random.randint(0, 100, size=(10, 3))\n",
    "display(my_array)\n"
   ]
  }
 ],
 "metadata": {
  "kernelspec": {
   "display_name": "Python 3 (ipykernel)",
   "language": "python",
   "name": "python3"
  },
  "language_info": {
   "codemirror_mode": {
    "name": "ipython",
    "version": 3
   },
   "file_extension": ".py",
   "mimetype": "text/x-python",
   "name": "python",
   "nbconvert_exporter": "python",
   "pygments_lexer": "ipython3",
   "version": "3.9.23"
  }
 },
 "nbformat": 4,
 "nbformat_minor": 5
}
